{
  "nbformat": 4,
  "nbformat_minor": 0,
  "metadata": {
    "colab": {
      "name": "regrecionlineal_height_weight.ipynb",
      "private_outputs": true,
      "provenance": [],
      "collapsed_sections": [],
      "toc_visible": true,
      "authorship_tag": "ABX9TyNVrkO7iwwFVykSD8SBP/qe",
      "include_colab_link": true
    },
    "kernelspec": {
      "name": "python3",
      "display_name": "Python 3"
    },
    "language_info": {
      "name": "python"
    }
  },
  "cells": [
    {
      "cell_type": "markdown",
      "metadata": {
        "id": "view-in-github",
        "colab_type": "text"
      },
      "source": [
        "<a href=\"https://colab.research.google.com/github/leivakuro765/portafolio/blob/main/regrecionlineal_height_weight.ipynb\" target=\"_parent\"><img src=\"https://colab.research.google.com/assets/colab-badge.svg\" alt=\"Open In Colab\"/></a>"
      ]
    },
    {
      "cell_type": "code",
      "execution_count": null,
      "metadata": {
        "id": "GUWsNr-ozQle"
      },
      "outputs": [],
      "source": [
        "import pandas as pd\n",
        "import numpy as np\n",
        "from sklearn.linear_model import LinearRegression \n",
        "import matplotlib.pyplot as plt"
      ]
    },
    {
      "cell_type": "code",
      "source": [
        "!ls\n",
        "size_df = pd.read_csv('height_weight.csv')\n",
        "size_df.head(5)"
      ],
      "metadata": {
        "id": "VSrLBUDi17G1"
      },
      "execution_count": null,
      "outputs": []
    },
    {
      "cell_type": "code",
      "source": [
        "size_df['Weight'] = size_df['Weight'].astype('int')\n",
        "size_df['Height'] = size_df['Height'].astype('int')\n"
      ],
      "metadata": {
        "id": "RKyflKEz-N_8"
      },
      "execution_count": null,
      "outputs": []
    },
    {
      "cell_type": "code",
      "source": [
        "size_df.head(1)"
      ],
      "metadata": {
        "id": "c4ZGCbaD_aLb"
      },
      "execution_count": null,
      "outputs": []
    },
    {
      "cell_type": "code",
      "source": [
        "size_df.info()"
      ],
      "metadata": {
        "id": "lAsM8Bwi2I3C"
      },
      "execution_count": null,
      "outputs": []
    },
    {
      "cell_type": "code",
      "source": [
        "size_df.Sex.value_counts()"
      ],
      "metadata": {
        "id": "3sINphVK2bjZ"
      },
      "execution_count": null,
      "outputs": []
    },
    {
      "cell_type": "code",
      "source": [
        ""
      ],
      "metadata": {
        "id": "DHLLB-883V5j"
      },
      "execution_count": null,
      "outputs": []
    },
    {
      "cell_type": "code",
      "source": [
        "size_df[['Height', 'Weight']].plot.scatter(x='Height', y='Weight')\n",
        "plt.show()"
      ],
      "metadata": {
        "id": "oxYBdjrj2vRK"
      },
      "execution_count": null,
      "outputs": []
    },
    {
      "cell_type": "code",
      "source": [
        "# initalizar el modelo de regrecion lineal\n",
        "regr = LinearRegression()\n",
        "regr.fit(size_df[['Height']] ,size_df['Weight'])"
      ],
      "metadata": {
        "id": "458k791b45_3"
      },
      "execution_count": null,
      "outputs": []
    },
    {
      "cell_type": "code",
      "source": [
        "regr.predict([['175']])"
      ],
      "metadata": {
        "id": "H6SOW0vk8mUC"
      },
      "execution_count": null,
      "outputs": []
    },
    {
      "cell_type": "code",
      "source": [
        "regr.predict(size_df[['Height']])"
      ],
      "metadata": {
        "id": "bw52Be8i6qOs"
      },
      "execution_count": null,
      "outputs": []
    },
    {
      "cell_type": "code",
      "source": [
        "predic = pd.Series(regr.predict(size_df[['Height']]))\n",
        "size_df['prediccion'] = predic\n",
        "size_df.head(5)"
      ],
      "metadata": {
        "id": "3Gai04QF8IuK"
      },
      "execution_count": null,
      "outputs": []
    },
    {
      "cell_type": "code",
      "source": [
        "ax = size_df.plot.line(x=\"Height\", y=\"prediccion\")\n",
        "size_df[['Height', 'Weight']].plot.scatter(x='Height', y='Weight', ax=ax,color='#2d0c62', figsize=(12, 7))\n",
        "plt.show()"
      ],
      "metadata": {
        "id": "H6x40zim9_DX"
      },
      "execution_count": null,
      "outputs": []
    },
    {
      "cell_type": "code",
      "source": [
        ""
      ],
      "metadata": {
        "id": "Hxgp8IssAq2k"
      },
      "execution_count": null,
      "outputs": []
    }
  ]
}